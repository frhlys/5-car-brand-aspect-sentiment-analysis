{
 "cells": [
  {
   "cell_type": "code",
   "execution_count": 4,
   "metadata": {},
   "outputs": [
    {
     "name": "stdout",
     "output_type": "stream",
     "text": [
      "\n",
      "Training Accuracy: 78.46%\n",
      "Testing Accuracy: 76.20%\n",
      "Cross-Validation Accuracy Scores: [0.73438245 0.76633286 0.77122079 0.77023966 0.75342792]\n",
      "Mean Cross-Validation Accuracy: 75.91%\n",
      "\n",
      "Classification Report (Test):\n",
      "              precision    recall  f1-score   support\n",
      "\n",
      "          -1       0.72      0.63      0.67      1914\n",
      "           0       0.96      0.22      0.36      1182\n",
      "           1       0.77      0.93      0.84      5292\n",
      "\n",
      "    accuracy                           0.76      8388\n",
      "   macro avg       0.81      0.59      0.62      8388\n",
      "weighted avg       0.78      0.76      0.73      8388\n",
      "\n",
      "\n",
      "Confusion Matrix (Test):\n",
      "      -1    0     1\n",
      "-1  1206    4   704\n",
      " 0   116  258   808\n",
      " 1   357    7  4928\n",
      "\n",
      "Model saved to nb_model.pkl\n"
     ]
    }
   ],
   "source": [
    "import pandas as pd\n",
    "from sklearn.feature_extraction.text import TfidfVectorizer\n",
    "from sklearn.naive_bayes import MultinomialNB\n",
    "from sklearn.pipeline import Pipeline\n",
    "from sklearn.model_selection import train_test_split, cross_val_score\n",
    "from sklearn.metrics import accuracy_score, classification_report, confusion_matrix, ConfusionMatrixDisplay\n",
    "import pickle\n",
    "\n",
    "# Load the dataset\n",
    "file_path = 'data_pp_lda_sentiment.csv'  \n",
    "df = pd.read_csv(file_path)\n",
    "\n",
    "# Convert to a format suitable for vectorization\n",
    "df['review_cleaned'] = df['review_cleaned'].apply(lambda x: ' '.join(eval(x)))\n",
    "\n",
    "# Define features and target\n",
    "X = df['review_cleaned']  # Text data\n",
    "y = df['sentiments']  # Target labels\n",
    "\n",
    "# Split data into training and testing sets (80% train, 20% test)\n",
    "X_train, X_test, y_train, y_test = train_test_split(X, y, test_size=0.2, random_state=42)\n",
    "\n",
    "# Create a pipeline\n",
    "pipeline = Pipeline([\n",
    "    ('tfidf', TfidfVectorizer(max_features=5000)),  \n",
    "    ('nb', MultinomialNB())                         \n",
    "])\n",
    "\n",
    "# Train the pipeline on the training data\n",
    "pipeline.fit(X_train, y_train)\n",
    "\n",
    "# Evaluate on the training data\n",
    "y_train_pred = pipeline.predict(X_train)\n",
    "train_accuracy = accuracy_score(y_train, y_train_pred)\n",
    "print(f\"\\nTraining Accuracy: {train_accuracy * 100:.2f}%\")\n",
    "\n",
    "# Evaluate on the testing data\n",
    "y_test_pred = pipeline.predict(X_test)\n",
    "test_accuracy = accuracy_score(y_test, y_test_pred)\n",
    "print(f\"Testing Accuracy: {test_accuracy * 100:.2f}%\")\n",
    "\n",
    "# Cross-validation scores\n",
    "cv_scores = cross_val_score(pipeline, X, y, cv=5, scoring='accuracy')\n",
    "print(f\"Cross-Validation Accuracy Scores: {cv_scores}\")\n",
    "print(f\"Mean Cross-Validation Accuracy: {cv_scores.mean() * 100:.2f}%\")\n",
    "\n",
    "# Print classification report for test set\n",
    "print(\"\\nClassification Report (Test):\")\n",
    "print(classification_report(y_test, y_test_pred))\n",
    "\n",
    "# Compute confusion matrix for test set\n",
    "conf_matrix = confusion_matrix(y_test, y_test_pred, labels=pipeline.named_steps['nb'].classes_)\n",
    "disp = ConfusionMatrixDisplay(confusion_matrix=conf_matrix, display_labels=pipeline.named_steps['nb'].classes_)\n",
    "\n",
    "# Display the confusion matrix as a DataFrame\n",
    "conf_matrix_df = pd.DataFrame(conf_matrix, index=pipeline.named_steps['nb'].classes_, columns=pipeline.named_steps['nb'].classes_)\n",
    "print(\"\\nConfusion Matrix (Test):\")\n",
    "print(conf_matrix_df)\n",
    "\n",
    "\n",
    "# Save the pipeline model to a file\n",
    "model_file = 'nb_model.pkl'\n",
    "with open(model_file, 'wb') as file:\n",
    "    pickle.dump(pipeline, file)\n",
    "print(f\"\\nModel saved to {model_file}\")\n"
   ]
  },
  {
   "cell_type": "code",
   "execution_count": 5,
   "metadata": {},
   "outputs": [
    {
     "name": "stdout",
     "output_type": "stream",
     "text": [
      "Fitting 5 folds for each of 36 candidates, totalling 180 fits\n"
     ]
    },
    {
     "name": "stdout",
     "output_type": "stream",
     "text": [
      "\n",
      "Best Parameters:\n",
      "{'nb__alpha': 0.1, 'tfidf__max_features': 7000, 'tfidf__ngram_range': (1, 2), 'tfidf__stop_words': 'english'}\n",
      "\n",
      "Best Cross-Validation Accuracy: 80.64%\n",
      "\n",
      "Test Set Accuracy with Best Model: 79.63%\n"
     ]
    }
   ],
   "source": [
    "from sklearn.model_selection import GridSearchCV\n",
    "from sklearn.pipeline import Pipeline\n",
    "from sklearn.feature_extraction.text import TfidfVectorizer\n",
    "from sklearn.naive_bayes import MultinomialNB\n",
    "\n",
    "# Define a pipeline\n",
    "pipeline = Pipeline([\n",
    "    ('tfidf', TfidfVectorizer()),\n",
    "    ('nb', MultinomialNB())\n",
    "])\n",
    "\n",
    "# Define the parameter grid for tuning\n",
    "param_grid = {\n",
    "    'tfidf__max_features': [3000, 5000, 7000],  # Number of features to consider\n",
    "    'tfidf__ngram_range': [(1, 1), (1, 2)],    # Use unigrams or unigrams + bigrams\n",
    "    'tfidf__stop_words': [None, 'english'],    # Whether to remove stopwords\n",
    "    'nb__alpha': [0.1, 0.5, 1.0]              # Smoothing parameter for Naive Bayes\n",
    "}\n",
    "\n",
    "# Set up GridSearchCV\n",
    "grid_search = GridSearchCV(\n",
    "    estimator=pipeline,\n",
    "    param_grid=param_grid,\n",
    "    cv=5,  # 5-fold cross-validation\n",
    "    scoring='accuracy',  # Metric to optimize\n",
    "    verbose=3,\n",
    "    n_jobs=-1  # Use all available cores\n",
    ")\n",
    "\n",
    "# Perform hyperparameter tuning\n",
    "grid_search.fit(X_train, y_train)\n",
    "\n",
    "# Best parameters and score\n",
    "print(\"\\nBest Parameters:\")\n",
    "print(grid_search.best_params_)\n",
    "print(f\"\\nBest Cross-Validation Accuracy: {grid_search.best_score_ * 100:.2f}%\")\n",
    "\n",
    "# Evaluate the best model on the test set\n",
    "best_model = grid_search.best_estimator_\n",
    "y_test_pred = best_model.predict(X_test)\n",
    "test_accuracy = accuracy_score(y_test, y_test_pred)\n",
    "print(f\"\\nTest Set Accuracy with Best Model: {test_accuracy * 100:.2f}%\")\n"
   ]
  },
  {
   "cell_type": "code",
   "execution_count": 6,
   "metadata": {},
   "outputs": [
    {
     "data": {
      "image/png": "[encoded data removed]",
      "text/plain": [
       "<Figure size 640x480 with 2 Axes>"
      ]
     },
     "metadata": {},
     "output_type": "display_data"
    }
   ],
   "source": [
    "from sklearn.metrics import confusion_matrix, ConfusionMatrixDisplay\n",
    "import matplotlib.pyplot as plt\n",
    "\n",
    "# Get predictions from the best model\n",
    "y_test_pred = best_model.predict(X_test)\n",
    "\n",
    "# Compute confusion matrix\n",
    "conf_matrix = confusion_matrix(y_test, y_test_pred, labels=best_model.named_steps['nb'].classes_)\n",
    "\n",
    "# Display confusion matrix\n",
    "disp = ConfusionMatrixDisplay(confusion_matrix=conf_matrix, display_labels=best_model.named_steps['nb'].classes_)\n",
    "disp.plot(cmap=plt.cm.Blues)\n",
    "\n",
    "# Show the plot\n",
    "plt.title(\"Confusion Matrix for Sentiment Prediction\")\n",
    "plt.show()\n"
   ]
  },
  {
   "cell_type": "code",
   "execution_count": 7,
   "metadata": {},
   "outputs": [
    {
     "name": "stdout",
     "output_type": "stream",
     "text": [
      "\n",
      "Classification Report (Test Set):\n",
      "              precision    recall  f1-score   support\n",
      "\n",
      "          -1       0.71      0.69      0.70      1914\n",
      "           0       0.95      0.44      0.61      1182\n",
      "           1       0.81      0.91      0.86      5292\n",
      "\n",
      "    accuracy                           0.80      8388\n",
      "   macro avg       0.82      0.68      0.72      8388\n",
      "weighted avg       0.81      0.80      0.79      8388\n",
      "\n"
     ]
    }
   ],
   "source": [
    "from sklearn.metrics import classification_report\n",
    "\n",
    "# Print the classification report\n",
    "print(\"\\nClassification Report (Test Set):\")\n",
    "print(classification_report(y_test, y_test_pred))\n"
   ]
  },
  {
   "cell_type": "code",
   "execution_count": 8,
   "metadata": {},
   "outputs": [
    {
     "name": "stdout",
     "output_type": "stream",
     "text": [
      "\n",
      "Best Model saved to best_nb_model.pkl\n"
     ]
    }
   ],
   "source": [
    "import pickle\n",
    "\n",
    "# Save the best model to a file\n",
    "model_file = 'best_nb_model.pkl'\n",
    "with open(model_file, 'wb') as file:\n",
    "    pickle.dump(best_model, file)\n",
    "\n",
    "print(f\"\\nBest Model saved to {model_file}\")\n"
   ]
  },
  {
   "cell_type": "code",
   "execution_count": 11,
   "metadata": {},
   "outputs": [
    {
     "name": "stdout",
     "output_type": "stream",
     "text": [
      "\n",
      "New Reviews Predictions with Sentiment Polarity:\n",
      "Review: \"Exactly what I was looking for! Shopped around quite a bit for a mid-level luxury car and the Q5 ultimately met all my desires.  A little bit more road noise on the highway than I was expecting but beyond that, the vehicle is awesome!  Luxurious while practical and looks pretty damn good out there on the road.\"\n",
      "=> Predicted Sentiment: 1 | Polarity: 0.37\n",
      "\n",
      "Review: \"Overrated Transmission shift from reverse to drive.\"\n",
      "=> Predicted Sentiment: 0 | Polarity: 0.00\n",
      "\n",
      "Review: \"The car has average features and is okay for its price\"\n",
      "=> Predicted Sentiment: 1 | Polarity: 0.17\n",
      "\n",
      "Review: \"Noisy car with problems, customer service sucks. The car makes a watch-like rapid ticking noise from day one, took the car to the dealership multiple times and were told it's the normal operation of the car. Car keeps pulling to the right, where the alignment can't fix, again dealership told me it's normal. Central locking intermittently beeps when locking the car. Worked with Audi customer service to resolve the issues. In the end, they basically told me to stay away, and every issue I had with the car is normal. My mistake to buy a car that manufacture doesn't stand behind their product. STAY FAR AWAY FROM AUDI..\"\n",
      "=> Predicted Sentiment: -1 | Polarity: 0.02\n",
      "\n",
      "Review: \"the car performs adequately for daily use , it has decent features and comfort but there are some areas for improvement such as fuel efficiency and interior space\"\n",
      "=> Predicted Sentiment: 1 | Polarity: 0.12\n",
      "\n"
     ]
    }
   ],
   "source": [
    "from textblob import TextBlob\n",
    "import joblib\n",
    "\n",
    "# Load the saved model\n",
    "loaded_model = joblib.load(\"nb_model.pkl\")\n",
    "\n",
    "# Test with data reviews\n",
    "new_reviews = [\n",
    "    \"Exactly what I was looking for! Shopped around quite a bit for a mid-level luxury car and the Q5 ultimately met all my desires.  A little bit more road noise on the highway than I was expecting but beyond that, the vehicle is awesome!  Luxurious while practical and looks pretty damn good out there on the road.\",\n",
    "    \"Overrated Transmission shift from reverse to drive.\",\n",
    "    \"The car has average features and is okay for its price\",\n",
    "    \"Noisy car with problems, customer service sucks. The car makes a watch-like rapid ticking noise from day one, took the car to the dealership multiple times and were told it's the normal operation of the car. Car keeps pulling to the right, where the alignment can't fix, again dealership told me it's normal. Central locking intermittently beeps when locking the car. Worked with Audi customer service to resolve the issues. In the end, they basically told me to stay away, and every issue I had with the car is normal. My mistake to buy a car that manufacture doesn't stand behind their product. STAY FAR AWAY FROM AUDI..\",\n",
    "    \"the car performs adequately for daily use , it has decent features and comfort but there are some areas for improvement such as fuel efficiency and interior space\"\n",
    "]\n",
    "\n",
    "# Predict sentiments for the new reviews\n",
    "new_predictions = loaded_model.predict(new_reviews)\n",
    "\n",
    "# Display results with polarity\n",
    "print(\"\\nNew Reviews Predictions with Sentiment Polarity:\")\n",
    "for review, sentiment in zip(new_reviews, new_predictions):\n",
    "    blob = TextBlob(review)\n",
    "    polarity = blob.sentiment.polarity\n",
    "    print(f\"Review: \\\"{review}\\\"\")\n",
    "    print(f\"=> Predicted Sentiment: {sentiment} | Polarity: {polarity:.2f}\")\n",
    "    print()\n"
   ]
  },
  {
   "cell_type": "code",
   "execution_count": 8,
   "metadata": {},
   "outputs": [
    {
     "name": "stdout",
     "output_type": "stream",
     "text": [
      "\n",
      "Training Accuracy: 86.31%\n",
      "Testing Accuracy: 85.55%\n",
      "\n",
      "Classification Report (Test Set):\n",
      "              precision    recall  f1-score   support\n",
      "\n",
      "          -1       0.75      0.68      0.71      1938\n",
      "           0       1.00      0.82      0.90      1219\n",
      "           1       0.86      0.92      0.89      5584\n",
      "\n",
      "    accuracy                           0.86      8741\n",
      "   macro avg       0.87      0.81      0.84      8741\n",
      "weighted avg       0.86      0.86      0.85      8741\n",
      "\n",
      "\n",
      "Confusion Matrix (Test Set):\n",
      "      -1     0     1\n",
      "-1  1318     0   620\n",
      " 0    23  1001   195\n",
      " 1   423     2  5159\n",
      "\n",
      "Model and Vectorizer saved successfully using Pickle!\n"
     ]
    }
   ],
   "source": [
    "import pandas as pd\n",
    "import pickle\n",
    "from sklearn.feature_extraction.text import TfidfVectorizer\n",
    "from sklearn.naive_bayes import MultinomialNB\n",
    "from sklearn.model_selection import train_test_split\n",
    "from sklearn.metrics import accuracy_score, classification_report, confusion_matrix\n",
    "\n",
    "# Load the dataset\n",
    "file_path = 'data_pp_lda_sentiment.csv'  # Update with the correct path\n",
    "df = pd.read_csv(file_path)\n",
    "\n",
    "# **Handle Missing Values**\n",
    "df = df.dropna(subset=['review_cleaned', 'sentiments'])  # Remove NaN rows\n",
    "df['review_cleaned'] = df['review_cleaned'].astype(str)  # Ensure text data is a string\n",
    "\n",
    "# Define features and target\n",
    "X = df['review_cleaned']  # Text data\n",
    "y = df['sentiments']  # Target labels (Positive, Neutral, Negative)\n",
    "\n",
    "# Split the data (80% train, 20% test)\n",
    "X_train, X_test, y_train, y_test = train_test_split(X, y, test_size=0.2, random_state=42, stratify=y)\n",
    "\n",
    "# **Convert text to numerical representation using TF-IDF**\n",
    "tfidf = TfidfVectorizer(max_features=5000, ngram_range=(1, 2), stop_words='english')\n",
    "X_train_tfidf = tfidf.fit_transform(X_train)  # Fit on training data\n",
    "X_test_tfidf = tfidf.transform(X_test)  # Transform test data\n",
    "\n",
    "# **Train Naïve Bayes Model**\n",
    "nb_model = MultinomialNB(alpha=0.1)  # Laplace smoothing\n",
    "nb_model.fit(X_train_tfidf, y_train)\n",
    "\n",
    "# **Model Evaluation**\n",
    "y_train_pred = nb_model.predict(X_train_tfidf)\n",
    "y_test_pred = nb_model.predict(X_test_tfidf)\n",
    "\n",
    "train_acc = accuracy_score(y_train, y_train_pred)\n",
    "test_acc = accuracy_score(y_test, y_test_pred)\n",
    "print(f\"\\nTraining Accuracy: {train_acc * 100:.2f}%\")\n",
    "print(f\"Testing Accuracy: {test_acc * 100:.2f}%\")\n",
    "\n",
    "# Classification report\n",
    "print(\"\\nClassification Report (Test Set):\")\n",
    "print(classification_report(y_test, y_test_pred))\n",
    "\n",
    "# **Display Confusion Matrix**\n",
    "conf_matrix = confusion_matrix(y_test, y_test_pred, labels=nb_model.classes_)\n",
    "conf_df = pd.DataFrame(conf_matrix, index=nb_model.classes_, columns=nb_model.classes_)\n",
    "print(\"\\nConfusion Matrix (Test Set):\")\n",
    "print(conf_df)\n",
    "\n",
    "# **Save Model and Vectorizer Using Pickle**\n",
    "with open('nb_model.pkl', 'wb') as model_file:\n",
    "    pickle.dump(nb_model, model_file)\n",
    "\n",
    "with open('tfidf.pkl', 'wb') as vectorizer_file:\n",
    "    pickle.dump(tfidf, vectorizer_file)\n",
    "\n",
    "print(\"\\nModel and Vectorizer saved successfully using Pickle!\")\n",
    "\n",
    "\n"
   ]
  },
  {
   "cell_type": "code",
   "execution_count": 7,
   "metadata": {},
   "outputs": [
    {
     "name": "stdout",
     "output_type": "stream",
     "text": [
      "\n",
      "Sample Review Prediction: neutral\n"
     ]
    }
   ],
   "source": [
    "# **Load and Test Saved Model (Optional)**\n",
    "with open('nb_model.pkl', 'rb') as model_file:\n",
    "    loaded_nb_model = pickle.load(model_file)\n",
    "\n",
    "with open('tfidf.pkl', 'rb') as vectorizer_file:\n",
    "    loaded_tfidf = pickle.load(vectorizer_file)\n",
    "\n",
    "# Test with a sample review\n",
    "sample_text = [\"Car is good but sometimes the engine is really bad\"]\n",
    "sample_tfidf = loaded_tfidf.transform(sample_text)\n",
    "sample_pred = loaded_nb_model.predict(sample_tfidf)\n",
    "\n",
    "print(f\"\\nSample Review Prediction: {sample_pred[0]}\")"
   ]
  },
  {
   "cell_type": "code",
   "execution_count": null,
   "metadata": {},
   "outputs": [],
   "source": []
  }
 ],
 "metadata": {
  "kernelspec": {
   "display_name": "faconda",
   "language": "python",
   "name": "python3"
  },
  "language_info": {
   "codemirror_mode": {
    "name": "ipython",
    "version": 3
   },
   "file_extension": ".py",
   "mimetype": "text/x-python",
   "name": "python",
   "nbconvert_exporter": "python",
   "pygments_lexer": "ipython3",
   "version": "3.11.11"
  }
 },
 "nbformat": 4,
 "nbformat_minor": 2
}
